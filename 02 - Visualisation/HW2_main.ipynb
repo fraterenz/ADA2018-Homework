{
 "cells": [
  {
   "cell_type": "markdown",
   "metadata": {},
   "source": [
    "# Assignment 2: Voting Visualized"
   ]
  },
  {
   "cell_type": "markdown",
   "metadata": {},
   "source": [
    "## Deadline\n",
    "\n",
    "Oct. 24th\n",
    "\n",
    "## Important notes\n",
    "\n",
    "- Make sure you push on GitHub your notebook with all the cells already evaluated.\n",
    "- Note that maps do not render in a standard Github environment. You should export them to HTML and link them in your notebook.\n",
    "- Don't forget to add a textual description of your thought process, the assumptions you made, and the solution you implemented.\n",
    "- Please write all your comments in English, and use meaningful variable names in your code.\n",
    "\n",
    "## Background\n"
   ]
  },
  {
   "cell_type": "markdown",
   "metadata": {},
   "source": [
    "* Are you curious to know what the political leanings of the people of Switzerland are?\n",
    "* Do you wake up in a cold sweat, wondering which party won the last cantonal parliament election in Vaud?\n",
    "* Are you looking to learn all sorts of visualizations, including maps, in Python?\n",
    "\n",
    "If your answer to any of the above is yes, this assignment is just right for you. Otherwise, it's still an assignment, so we're terribly sorry.\n",
    "\n",
    "The chief aim of this assignment is to familiarize you with visualizations in Python, particularly maps, and also to give you some insight into how visualizations are to be interpreted. The data we will use is the data on Swiss cantonal parliament elections from 2007 to 2018, which contains, for each cantonal election in this time period, the voting percentages for each party and canton.\n",
    "\n",
    "For the visualization part, install [Folium](Folium) (_Hint: it is not available in your standard Anaconda environment, therefore search on the Web how to install it easily!_). Folium's README comes with very clear examples, and links to their own iPython Notebooks -- make good use of this information. For your own convenience, in this same directory you can already find one TopoJSON file, containing the geo-coordinates of the cantonal borders of Switzerland.\n",
    "\n",
    "One last, general reminder: back up any hypotheses and claims with data, since this is an important aspect of the course."
   ]
  },
  {
   "cell_type": "code",
   "execution_count": 1,
   "metadata": {},
   "outputs": [],
   "source": [
    "# Put your imports here.\n",
    "import pandas as pd\n",
    "import json\n",
    "import numpy as np\n",
    "import folium"
   ]
  },
  {
   "cell_type": "code",
   "execution_count": 2,
   "metadata": {},
   "outputs": [],
   "source": [
    "data_folder = './data/'"
   ]
  },
  {
   "cell_type": "markdown",
   "metadata": {},
   "source": [
    "## Task 1: Cartography and census\n",
    "\n",
    "__A)__ Display a Swiss map that has cantonal borders as well as the national borders. We provide a TopoJSON `data/ch-cantons.topojson.json` that contains the borders of the cantons.\n",
    "\n",
    "__B)__ Take the spreadsheet `data/communes_pop.xls`, collected from [admin.ch](https://www.bfs.admin.ch/bfs/fr/home/statistiques/catalogues-banques-donnees/tableaux.assetdetail.5886191.html), containing population figures for every commune. You can use [pd.read_excel()](https://pandas.pydata.org/pandas-docs/version/0.20/generated/pandas.read_excel.html) to read the file and to select specific sheets. Plot a histogram of the population counts and explain your observations. Do not use a log-scale plot for now. What does this histogram tell you about urban and rural communes in Switzerland? Are there any clear outliers on either side, and if so, which communes?\n",
    "\n",
    "__C)__ The figure below represents 4 types of histogram. At this stage, our distribution should look like Fig.(a). A common way to represent [power-laws](https://en.wikipedia.org/wiki/Power_law) is to use a histogram using a log-log scale  -- remember: the x-axis of an histogram is segmented in bins of equal sizes and y-values are the average of each bin. As shown in Fig.(b), small bins sizes might introduce artifacts. Fig.(b) and Fig.(c) are examples of histograms with two different bin sizes. Another great way to visualize such distribution is to use a cumulative representation, as show in Fig.(d), in which the y-axis represents the number of data points with values greater than y.  \n",
    "  \n",
    "Create the figures (b) and (d) using the data extracted for task 1B. For Fig.(b), represent two histograms using two different bin sizes and provide a brief description of the results. What does this tell you about the relationship between the two variables, namely the frequency of each bin and the value (i.e. population in case of the communal data) for each bin?\n",
    "\n",
    "<img src=\"plaw_crop.png\" style=\"width: 600px;\">\n",
    "  \n",
    "The figure is extracted from [this paper](https://arxiv.org/pdf/cond-mat/0412004.pdf) that contains more information about this family of distributions."
   ]
  },
  {
   "cell_type": "code",
   "execution_count": null,
   "metadata": {},
   "outputs": [],
   "source": [
    "ch_coord = [46.8, 8.3]\n",
    "geo_json_data = json.load(open(data_folder +'/ch-cantons.topojson.json'))\n",
    "# Stamen Terrain, Stamen Toner, Mapbox Bright, and Mapbox Control Room, cartodbpositron\n",
    "m_switzerland = folium.Map(ch_coord, tiles='Mapbox Bright', zoom_start=8)\n",
    "\n",
    "m_switzerland"
   ]
  },
  {
   "cell_type": "code",
   "execution_count": null,
   "metadata": {},
   "outputs": [],
   "source": [
    "folium.TopoJson(\n",
    "    geo_json_data, \n",
    "    object_path='objects.cantons',\n",
    "    style_function=lambda feature: {\n",
    "        'color' : 'blue',\n",
    "        'weight' : 2\n",
    "        }\n",
    ").add_to(m_switzerland)\n",
    "\n",
    "m_switzerland"
   ]
  },
  {
   "cell_type": "code",
   "execution_count": null,
   "metadata": {},
   "outputs": [],
   "source": [
    "population = pd.read_excel(data_folder + '/communes_pop.xls', sheet_name=0, header=list(range(0, 6)))\n",
    "# population.describe()"
   ]
  },
  {
   "cell_type": "code",
   "execution_count": null,
   "metadata": {},
   "outputs": [],
   "source": [
    "population.head(20)"
   ]
  },
  {
   "cell_type": "code",
   "execution_count": null,
   "metadata": {},
   "outputs": [],
   "source": [
    "population.tail(20)"
   ]
  },
  {
   "cell_type": "markdown",
   "metadata": {},
   "source": [
    "## Task 2: Parties visualized\n",
    "\n",
    "We provide a spreadsheet, `data/voters.xls`, (again) collected from [admin.ch](https://www.bfs.admin.ch/bfs/fr/home/statistiques/politique/elections/conseil-national/force-partis.assetdetail.217195.html), which contains the percentage of voters for each party and for each canton. For the following task, we will focus on the period 2014-2018 (the first page of the spreadsheet). Please report any assumptions you make regarding outliers, missing values, etc. Notice that data is missing for two cantons, namely Appenzell Ausserrhoden and Graubünden, and your visualisations should include data for every other canton.\n",
    "\n",
    "\n",
    "__A)__ For the period 2014-2018 and for each canton, visualize, on the map, **the percentage of voters** in that canton who voted for the party [`UDC`](https://en.wikipedia.org/wiki/Swiss_People%27s_Party) (Union démocratique du centre). Does this party seem to be more popular in the German-speaking part, the French-speaking part, or the Italian-speaking part?\n",
    "\n",
    "__B)__ For the same period, now visualize **the number of residents** in each canton who voted for UDC.\n",
    "\n",
    "__C)__ Which one of the two visualizations above would be more informative in case of a national election with majority voting (i.e. when a party needs to have the largest number of citizens voting for it among all parties)? Which one is more informative for the cantonal parliament elections?\n",
    "\n",
    "For part B, you can use the `data/national_council_elections.xslx` file ([guess where we got it from](https://www.bfs.admin.ch/bfs/fr/home/statistiques/politique/elections/conseil-national/participation.assetdetail.81625.html)) to have the voting-eligible population of each canton in 2015."
   ]
  },
  {
   "cell_type": "code",
   "execution_count": null,
   "metadata": {},
   "outputs": [],
   "source": [
    "voters = pd.read_excel(\n",
    "    data_folder + '/voters.xls', \n",
    "    sheet_name=1, \n",
    "    skipfooter=55,\n",
    "    header=2)\n",
    "\n",
    "# drop columns\n",
    "voters.dropna(axis=1, inplace=True, how='all')\n",
    "# drop rows\n",
    "voters.dropna(axis=0, inplace=True, how='all')"
   ]
  },
  {
   "cell_type": "code",
   "execution_count": null,
   "metadata": {},
   "outputs": [],
   "source": [
    "voters.head(10)"
   ]
  },
  {
   "cell_type": "code",
   "execution_count": null,
   "metadata": {
    "scrolled": true
   },
   "outputs": [],
   "source": [
    "voters.tail(10)"
   ]
  },
  {
   "cell_type": "markdown",
   "metadata": {},
   "source": [
    "## Task 3: More socialism or more nationalism?\n",
    "\n",
    "In this section, we focus on two parties that are representative of the left and the right on the Swiss political spectrum. You will propose a way to visualize their influence over time and for each canton.\n",
    "\n",
    "__A)__ Take the two parties [`UDC`](https://en.wikipedia.org/wiki/Swiss_People%27s_Party) (Union démocratique du centre) and [`PS`](https://en.wikipedia.org/wiki/Social_Democratic_Party_of_Switzerland) (Parti socialiste suisse). For each canton, we define 'right lean' in a certain period as follows:\n",
    "\n",
    "$$\\frac{VoteShare_{UDC} - VoteShare_{PS}}{VoteShare_{UDC} + VoteShare_{PS}}$$  \n",
    "\n",
    "Visualize the right lean of each canton on the map. What conclusions can you draw this time? Can you observe the [röstigraben](https://en.wikipedia.org/wiki/R%C3%B6stigraben) ?\n",
    "\n",
    "__B)__ For each party, devise a way to visualize the difference between its 2014-2018 vote share (i.e. percentage) and its 2010-2013 vote share for each canton. Propose a way to visualize this evolution of the party over time, and justify your choices. There's no single correct answer, but you must reasonably explain your choices."
   ]
  },
  {
   "cell_type": "markdown",
   "metadata": {},
   "source": [
    "#### 3A "
   ]
  },
  {
   "cell_type": "markdown",
   "metadata": {},
   "source": [
    "Create 26 tables, one for each cantons. In each table we store the year as an index. For each index we save the `UDC` and `PS` columns such that we can compute the 'right-lean' for each canton for the available year. We can finally plot each year 'right-lean' ?"
   ]
  },
  {
   "cell_type": "code",
   "execution_count": 3,
   "metadata": {},
   "outputs": [],
   "source": [
    "def import_voters(sheet_name=0, usecols=None):\n",
    "    the_voters = pd.read_excel(\n",
    "        data_folder + '/voters.xls', \n",
    "        sheet_name=sheet_name, \n",
    "        skipfooter=55, # empirically\n",
    "        header=2\n",
    "    )\n",
    "    # drop columns\n",
    "    the_voters.dropna(axis=1, inplace=True, how='all')\n",
    "    # drop rows\n",
    "    the_voters.dropna(axis=0, inplace=True, how='all')\n",
    "    # rename unnamed column by \"Canton\"\n",
    "    the_voters.rename(columns={\"Unnamed: 0\": \"Canton\"}, inplace=True)\n",
    "    \n",
    "    # Replace all occurring digits and parathesis in the strings with nothing\n",
    "    the_voters.Canton = the_voters['Canton'].str.replace('\\d+\\)', '')\n",
    "    the_voters.columns = the_voters.columns.str.replace('\\s\\d+\\)', '')\n",
    "    \n",
    "    # sort according to the canton's name and reset index\n",
    "    the_voters.sort_values('Canton', inplace=True)\n",
    "    the_voters = the_voters.set_index('Canton')\n",
    "    \n",
    "    # convert year into unsig. int\n",
    "    the_voters[\"Année électorale\"] = the_voters[\"Année électorale\"].astype(np.uint16)\n",
    "    \n",
    "    # select relevant columns\n",
    "    if usecols:\n",
    "        if all([True if col in the_voters.columns.values else False for col in usecols]):\n",
    "            the_voters = the_voters[usecols]\n",
    "        else:\n",
    "            raise KeyError(\n",
    "                'usecols do not contains columns of data exracted, incopatible column(s): {}'.format(\n",
    "                    [col for col in usecols if col not in the_voters.columns.values]  \n",
    "                )\n",
    "            )\n",
    "    return the_voters"
   ]
  },
  {
   "cell_type": "code",
   "execution_count": 5,
   "metadata": {},
   "outputs": [
    {
     "name": "stdout",
     "output_type": "stream",
     "text": [
      "Sheet 2014-2017: nb cantons 26, nb cols 4\n",
      "Sheet 2013-2016: nb cantons 26, nb cols 4\n",
      "Sheet 2012-2015: nb cantons 22, nb cols 4\n",
      "Sheet 2011-2014: nb cantons 23, nb cols 4\n",
      "Sheet 2010-2013: nb cantons 20, nb cols 4\n",
      "Sheet 2009-2012: nb cantons 21, nb cols 4\n",
      "Sheet 2008-2011: nb cantons 23, nb cols 4\n",
      "Sheet 2007-2010: nb cantons 26, nb cols 4\n",
      "nb of sheets imported 8\n"
     ]
    }
   ],
   "source": [
    "cols = ['Année électorale','Participation', 'PS', 'UDC']\n",
    "\n",
    "voters_PS_UDC = {\n",
    "    '{}-{}'.format(k1, k2):None for k1,k2 in zip(\n",
    "        range(2007, 2015)[::-1], \n",
    "        range(2010, 2018)[::-1]\n",
    "    )\n",
    "}\n",
    "\n",
    "for i, k in enumerate(voters_PS_UDC.keys()):\n",
    "    voters_PS_UDC[k] = import_voters(sheet_name=i, usecols=cols)\n",
    "    print(\n",
    "        'Sheet {}: nb cantons {}, nb cols {}'.format(\n",
    "            k, \n",
    "            voters_PS_UDC[k].shape[0], \n",
    "            voters_PS_UDC[k].shape[1]\n",
    "        )\n",
    "    )\n",
    "    \n",
    "print('nb of sheets imported {}'.format(len(voters_PS_UDC)))"
   ]
  },
  {
   "cell_type": "code",
   "execution_count": 6,
   "metadata": {},
   "outputs": [
    {
     "data": {
      "text/html": [
       "<div>\n",
       "<style scoped>\n",
       "    .dataframe tbody tr th:only-of-type {\n",
       "        vertical-align: middle;\n",
       "    }\n",
       "\n",
       "    .dataframe tbody tr th {\n",
       "        vertical-align: top;\n",
       "    }\n",
       "\n",
       "    .dataframe thead th {\n",
       "        text-align: right;\n",
       "    }\n",
       "</style>\n",
       "<table border=\"1\" class=\"dataframe\">\n",
       "  <thead>\n",
       "    <tr style=\"text-align: right;\">\n",
       "      <th></th>\n",
       "      <th>Année électorale</th>\n",
       "      <th>Participation</th>\n",
       "      <th>PS</th>\n",
       "      <th>UDC</th>\n",
       "    </tr>\n",
       "    <tr>\n",
       "      <th>Canton</th>\n",
       "      <th></th>\n",
       "      <th></th>\n",
       "      <th></th>\n",
       "      <th></th>\n",
       "    </tr>\n",
       "  </thead>\n",
       "  <tbody>\n",
       "    <tr>\n",
       "      <th>Appenzell Rh. Ext.</th>\n",
       "      <td>2015</td>\n",
       "      <td>36.111260</td>\n",
       "      <td>11.475833</td>\n",
       "      <td>16.281936</td>\n",
       "    </tr>\n",
       "    <tr>\n",
       "      <th>Appenzell Rh. Int.</th>\n",
       "      <td>2015</td>\n",
       "      <td>36.111260</td>\n",
       "      <td>NaN</td>\n",
       "      <td>NaN</td>\n",
       "    </tr>\n",
       "    <tr>\n",
       "      <th>Argovie</th>\n",
       "      <td>2016</td>\n",
       "      <td>32.805153</td>\n",
       "      <td>18.918913</td>\n",
       "      <td>31.937510</td>\n",
       "    </tr>\n",
       "    <tr>\n",
       "      <th>Berne</th>\n",
       "      <td>2018</td>\n",
       "      <td>30.516313</td>\n",
       "      <td>22.328775</td>\n",
       "      <td>26.760869</td>\n",
       "    </tr>\n",
       "    <tr>\n",
       "      <th>Bâle-Campagne</th>\n",
       "      <td>2015</td>\n",
       "      <td>33.845621</td>\n",
       "      <td>21.995307</td>\n",
       "      <td>26.741611</td>\n",
       "    </tr>\n",
       "  </tbody>\n",
       "</table>\n",
       "</div>"
      ],
      "text/plain": [
       "                      Année électorale  Participation         PS        UDC\n",
       "Canton                                                                     \n",
       "Appenzell Rh. Ext.                2015      36.111260  11.475833  16.281936\n",
       "Appenzell Rh. Int.                2015      36.111260        NaN        NaN\n",
       "Argovie                           2016      32.805153  18.918913  31.937510\n",
       "Berne                             2018      30.516313  22.328775  26.760869\n",
       "Bâle-Campagne                     2015      33.845621  21.995307  26.741611"
      ]
     },
     "execution_count": 6,
     "metadata": {},
     "output_type": "execute_result"
    }
   ],
   "source": [
    "voters_PS_UDC['2014-2017'].head()"
   ]
  },
  {
   "cell_type": "code",
   "execution_count": null,
   "metadata": {},
   "outputs": [],
   "source": [
    "colorscale = branca.colormap.linear.YlGnBu_09.scale(0, 30)\n",
    "\n",
    "def style_function(feature):\n",
    "    employed = employed_series.get(int(feature['id'][-5:]), None)\n",
    "    return {\n",
    "        'fillOpacity': 0.5,\n",
    "        'weight': 0,\n",
    "        'fillColor': '#black' if employed is None else colorscale(employed)\n",
    "    }\n",
    "\n",
    "\n",
    "ch_coord = [46.8, 8.3]\n",
    "geo_json_data = json.load(open(data_folder +'/ch-cantons.topojson.json'))\n",
    "# Stamen Terrain, Stamen Toner, Mapbox Bright, and Mapbox Control Room, cartodbpositron\n",
    "m_switzerland = folium.Map(ch_coord, tiles='Mapbox Bright', zoom_start=8)\n",
    "\n",
    "\n",
    "folium.TopoJson(\n",
    "    geo_json_data, \n",
    "    object_path='objects.cantons',\n",
    "    style_function=style_function\n",
    ").add_to(m_switzerland)\n",
    "\n",
    "m_switzerland"
   ]
  }
 ],
 "metadata": {
  "kernelspec": {
   "display_name": "Python [default]",
   "language": "python",
   "name": "python3"
  },
  "language_info": {
   "codemirror_mode": {
    "name": "ipython",
    "version": 3
   },
   "file_extension": ".py",
   "mimetype": "text/x-python",
   "name": "python",
   "nbconvert_exporter": "python",
   "pygments_lexer": "ipython3",
   "version": "3.6.6"
  }
 },
 "nbformat": 4,
 "nbformat_minor": 2
}
